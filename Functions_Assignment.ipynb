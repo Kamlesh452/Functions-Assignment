{
  "nbformat": 4,
  "nbformat_minor": 0,
  "metadata": {
    "colab": {
      "provenance": []
    },
    "kernelspec": {
      "name": "python3",
      "display_name": "Python 3"
    },
    "language_info": {
      "name": "python"
    }
  },
  "cells": [
    {
      "cell_type": "markdown",
      "source": [],
      "metadata": {
        "id": "4_kPerrbE9Sk"
      }
    },
    {
      "cell_type": "markdown",
      "source": [
        "# Theory Questions"
      ],
      "metadata": {
        "id": "RjKlkHDoE_4W"
      }
    },
    {
      "cell_type": "markdown",
      "source": [
        "1. What is the difference between a function and a method in Python?\n",
        "  >>>In Python, functions and methods are similar in that both are callable objects, but there are key differences in how they are defined, used, and invoked."
      ],
      "metadata": {
        "id": "uN-8M7c0FF0w"
      }
    },
    {
      "cell_type": "markdown",
      "source": [
        "2. Explain the concept of function arguments and parameters in Python.\n",
        "   >>>In Python, arguments and parameters are terms related to the way functions interact with data. Though they are often used interchangeably, they have distinct meanings depending on the context.\n",
        "\n"
      ],
      "metadata": {
        "id": "4CaHlYw-FhdY"
      }
    },
    {
      "cell_type": "markdown",
      "source": [
        "3. What are the different ways to define and call a function in Python?\n",
        "   >>>In Python, functions can be defined and called in a variety of ways, offering flexibility for different use cases"
      ],
      "metadata": {
        "id": "pnf386ruF8ho"
      }
    },
    {
      "cell_type": "markdown",
      "source": [
        "4. What is the purpose of the `return` statement in a Python function?\n",
        "   >>>The return statement in a Python function is used to specify the value that a function should output or \"return\" to the caller after it completes its execution. It essentially determines what the result of the function call will be.\n",
        "\n"
      ],
      "metadata": {
        "id": "baHC5BTKL2tT"
      }
    },
    {
      "cell_type": "markdown",
      "source": [
        "5. What are iterators in Python and how do they differ from iterables?\n",
        "   >>>In Python, iterators and iterables are related concepts but differ in their purpose and behavior. Let’s break them down:\n",
        "\n"
      ],
      "metadata": {
        "id": "TjzWOJR6MThi"
      }
    },
    {
      "cell_type": "markdown",
      "source": [
        "6. Explain the concept of generators in Python and how they are defined.\n",
        "   >>>In Python, generators are a simple and powerful way to create iterators. They allow you to iterate over data lazily, meaning that values are produced one at a time as needed, rather than all at once. This can lead to significant memory and performance benefits when working with large datasets or infinite sequences."
      ],
      "metadata": {
        "id": "Ya4q6QNtMv35"
      }
    },
    {
      "cell_type": "markdown",
      "source": [
        "7. What are the advantages of using generators over regular functions?\n",
        "   >>>Using generators in Python offers several advantages over regular functions, particularly in scenarios that involve producing sequences of data or managing large datasets"
      ],
      "metadata": {
        "id": "ZLVP-XfMNGvC"
      }
    },
    {
      "cell_type": "markdown",
      "source": [
        "8. What is a lambda function in Python and when is it typically used?\n",
        "   >>>A lambda function in Python is a small, anonymous function defined with the lambda keyword. Unlike a regular function defined using def, a lambda function is a single expression that is evaluated and returned. Lambda functions are often used for short, simple operations that don’t require a full function definition."
      ],
      "metadata": {
        "id": "GIn2ijSNNdsQ"
      }
    },
    {
      "cell_type": "markdown",
      "source": [
        "9. Explain the purpose and usage of the `map()` function in Python.\n",
        "   >>>The map() function in Python is a built-in function used to apply a given function to each item in an iterable (e.g., list, tuple, etc.) and return a new iterable (a map object) containing the results. It is a powerful tool for transforming data in a functional programming style."
      ],
      "metadata": {
        "id": "djHcCHzZNvNb"
      }
    },
    {
      "cell_type": "markdown",
      "source": [
        "10. What is the difference between `map()`, `reduce()`, and `filter()` functions in Python?\n",
        "    >>> The map(), reduce(), and filter() functions in Python are functional programming tools used to process iterables like lists and tuples. Each serves a distinct purpose in applying transformations or operations on data.\n",
        "\n",
        "\n",
        "\n",
        "\n",
        "\n"
      ],
      "metadata": {
        "id": "WE5fWOkVODK0"
      }
    },
    {
      "cell_type": "markdown",
      "source": [
        "11. Using pen & Paper write the internal mechanism for sum operation using  reduce function on this given\n",
        "list:[47,11,42,13];\n",
        "     >>>To understand how the reduce() function works internally for the sum operation on the given list [47, 11, 42, 13], let's break it down step by step. We'll be using a binary function (a function that takes two arguments and returns a single result), which in this case will be the addition operation."
      ],
      "metadata": {
        "id": "U-6r5pbMOh5z"
      }
    },
    {
      "cell_type": "markdown",
      "source": [
        "# Practical Questions"
      ],
      "metadata": {
        "id": "lIhmCCzpPIDH"
      }
    },
    {
      "cell_type": "markdown",
      "source": [
        "1. Write a Python function that takes a list of numbers as input and returns the sum of all even numbers in\n",
        "the list."
      ],
      "metadata": {
        "id": "hHJ7Y9j7POmm"
      }
    },
    {
      "cell_type": "code",
      "source": [
        "def sum_of_even_numbers(numbers):\n",
        "    return sum(x for x in numbers if x % 2 == 0)\n",
        "\n",
        "numbers = [47, 11, 42, 13, 8, 22]\n",
        "result = sum_of_even_numbers(numbers)\n",
        "print(result)\n"
      ],
      "metadata": {
        "colab": {
          "base_uri": "https://localhost:8080/"
        },
        "id": "0arYdLWgQXki",
        "outputId": "3b42709e-3c1a-42e0-ab40-31113e0769fc"
      },
      "execution_count": null,
      "outputs": [
        {
          "output_type": "stream",
          "name": "stdout",
          "text": [
            "72\n"
          ]
        }
      ]
    },
    {
      "cell_type": "markdown",
      "source": [
        "2. Create a Python function that accepts a string and returns the reverse of that string"
      ],
      "metadata": {
        "id": "fSDCLvsiQmx9"
      }
    },
    {
      "cell_type": "code",
      "source": [
        "def reverse_string(string):\n",
        "    return string[::-1]\n",
        "\n",
        "string = \"Hello, World!\"\n",
        "result = reverse_string(string)\n",
        "print(result)"
      ],
      "metadata": {
        "colab": {
          "base_uri": "https://localhost:8080/"
        },
        "id": "4a56FEJnQ8rz",
        "outputId": "ffcd578f-e640-4d07-b943-9894fa2ad851"
      },
      "execution_count": null,
      "outputs": [
        {
          "output_type": "stream",
          "name": "stdout",
          "text": [
            "!dlroW ,olleH\n"
          ]
        }
      ]
    },
    {
      "cell_type": "markdown",
      "source": [
        "3. Implement a Python function that takes a list of integers and returns a new list containing the squares of\n",
        "each number."
      ],
      "metadata": {
        "id": "HHpG6WfCRLjk"
      }
    },
    {
      "cell_type": "code",
      "source": [
        "def square_numbers(numbers):\n",
        "    return [x ** 2 for x in numbers]\n",
        "\n",
        "numbers = [1, 2, 3, 4, 5]\n",
        "result = square_numbers(numbers)\n",
        "print(result)"
      ],
      "metadata": {
        "colab": {
          "base_uri": "https://localhost:8080/"
        },
        "id": "SJ9M47G9RQjW",
        "outputId": "0bde8de1-693c-4dbf-e19f-f4cc3a4da5a7"
      },
      "execution_count": null,
      "outputs": [
        {
          "output_type": "stream",
          "name": "stdout",
          "text": [
            "[1, 4, 9, 16, 25]\n"
          ]
        }
      ]
    },
    {
      "cell_type": "markdown",
      "source": [
        "4. Write a Python function that checks if a given number is prime or not from 1 to 200."
      ],
      "metadata": {
        "id": "ByvkyVKDRle3"
      }
    },
    {
      "cell_type": "code",
      "source": [
        "def is_prime(num):\n",
        "    if num < 2:\n",
        "        return False\n",
        "\n",
        "    for i in range(2, int(num ** 0.5) + 1):\n",
        "        if num % i == 0:\n",
        "            return False\n",
        "\n",
        "    return True\n",
        "\n",
        "for number in range(1, 201):\n",
        "    if is_prime(number):\n",
        "        print(number, \"is prime\")\n"
      ],
      "metadata": {
        "colab": {
          "base_uri": "https://localhost:8080/"
        },
        "id": "hFahvh_iSZr9",
        "outputId": "b15b0fb4-dbb8-471b-c7c4-1d8b2e110ce0"
      },
      "execution_count": null,
      "outputs": [
        {
          "output_type": "stream",
          "name": "stdout",
          "text": [
            "2 is prime\n",
            "3 is prime\n",
            "5 is prime\n",
            "7 is prime\n",
            "11 is prime\n",
            "13 is prime\n",
            "17 is prime\n",
            "19 is prime\n",
            "23 is prime\n",
            "29 is prime\n",
            "31 is prime\n",
            "37 is prime\n",
            "41 is prime\n",
            "43 is prime\n",
            "47 is prime\n",
            "53 is prime\n",
            "59 is prime\n",
            "61 is prime\n",
            "67 is prime\n",
            "71 is prime\n",
            "73 is prime\n",
            "79 is prime\n",
            "83 is prime\n",
            "89 is prime\n",
            "97 is prime\n",
            "101 is prime\n",
            "103 is prime\n",
            "107 is prime\n",
            "109 is prime\n",
            "113 is prime\n",
            "127 is prime\n",
            "131 is prime\n",
            "137 is prime\n",
            "139 is prime\n",
            "149 is prime\n",
            "151 is prime\n",
            "157 is prime\n",
            "163 is prime\n",
            "167 is prime\n",
            "173 is prime\n",
            "179 is prime\n",
            "181 is prime\n",
            "191 is prime\n",
            "193 is prime\n",
            "197 is prime\n",
            "199 is prime\n"
          ]
        }
      ]
    },
    {
      "cell_type": "markdown",
      "source": [
        "5. Create an iterator class in Python that generates the Fibonacci sequence up to a specified number of\n",
        "terms."
      ],
      "metadata": {
        "id": "YI6YthniS1J4"
      }
    },
    {
      "cell_type": "code",
      "source": [
        "class FibonacciIterator:\n",
        "    def __init__(self, n):\n",
        "        self.n = n\n",
        "        self.a, self.b = 0, 1\n",
        "        self.count = 0\n",
        "\n",
        "    def __iter__(self):\n",
        "        return self"
      ],
      "metadata": {
        "id": "9Ye5Th4wS8ZJ"
      },
      "execution_count": null,
      "outputs": []
    },
    {
      "cell_type": "markdown",
      "source": [
        "6. Write a generator function in Python that yields the powers of 2 up to a given exponent"
      ],
      "metadata": {
        "id": "R39jkylpTavd"
      }
    },
    {
      "cell_type": "code",
      "source": [
        "def power_of_two(exponent):\n",
        "    for i in range(exponent + 1):\n",
        "        yield 2 ** i\n",
        "\n",
        "for power in power_of_two(5):\n",
        "    print(power)"
      ],
      "metadata": {
        "id": "ireM-43UTpyl"
      },
      "execution_count": null,
      "outputs": []
    },
    {
      "cell_type": "markdown",
      "source": [
        "7. Implement a generator function that reads a file line by line and yields each line as a string."
      ],
      "metadata": {
        "id": "pqo3jZC3T5OT"
      }
    },
    {
      "cell_type": "code",
      "source": [
        "def read_file_lines(file_path):\n",
        "    with open(file_path, 'r') as file:\n",
        "        for line in file:\n",
        "            yield line.strip()"
      ],
      "metadata": {
        "id": "h2dimIhQUFKX"
      },
      "execution_count": null,
      "outputs": []
    },
    {
      "cell_type": "markdown",
      "source": [
        "8. Use a lambda function in Python to sort a list of tuples based on the second element of each tuple."
      ],
      "metadata": {
        "id": "65NKLZe-U07m"
      }
    },
    {
      "cell_type": "code",
      "source": [
        "def sort_tuples(tuples):\n",
        "    return sorted(tuples, key=lambda x: x[1])"
      ],
      "metadata": {
        "id": "jDFVR9C9U6eO"
      },
      "execution_count": null,
      "outputs": []
    },
    {
      "cell_type": "markdown",
      "source": [
        "9. Write a Python program that uses `map()` to convert a list of temperatures from Celsius to Fahrenheit."
      ],
      "metadata": {
        "id": "6OWS-uYVVGSb"
      }
    },
    {
      "cell_type": "code",
      "source": [
        "def celsius_to_fahrenheit(celsius):\n",
        "    return (celsius * 9/5) + 32"
      ],
      "metadata": {
        "id": "mlf3_6_oVRBl"
      },
      "execution_count": null,
      "outputs": []
    },
    {
      "cell_type": "markdown",
      "source": [
        "10. Create a Python program that uses `filter()` to remove all the vowels from a given string."
      ],
      "metadata": {
        "id": "t62sQz4nVr-i"
      }
    },
    {
      "cell_type": "code",
      "source": [
        "def remove_vowels(string):\n",
        "    vowels = 'aeiouAEIOU'\n",
        "    return ''.join(filter(lambda x: x not in vowels, string))"
      ],
      "metadata": {
        "id": "_JWjxj-4VyO1"
      },
      "execution_count": null,
      "outputs": []
    },
    {
      "cell_type": "markdown",
      "source": [],
      "metadata": {
        "id": "IQ2WFTMwUupB"
      }
    }
  ]
}